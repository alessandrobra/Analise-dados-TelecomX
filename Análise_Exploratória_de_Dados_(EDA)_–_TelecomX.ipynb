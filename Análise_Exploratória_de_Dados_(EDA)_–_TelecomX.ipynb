{
  "cells": [
    {
      "cell_type": "markdown",
      "metadata": {
        "id": "C7gV06PutaB5"
      },
      "source": [
        "# ETAPA 1: Importar os dados da API JSON"
      ]
    },
    {
      "cell_type": "code",
      "execution_count": 1,
      "metadata": {
        "id": "9J27_a-uqqpD"
      },
      "outputs": [
        {
          "ename": "ModuleNotFoundError",
          "evalue": "No module named 'requests'",
          "output_type": "error",
          "traceback": [
            "\u001b[1;31m---------------------------------------------------------------------------\u001b[0m",
            "\u001b[1;31mModuleNotFoundError\u001b[0m                       Traceback (most recent call last)",
            "Cell \u001b[1;32mIn[1], line 2\u001b[0m\n\u001b[0;32m      1\u001b[0m \u001b[38;5;28;01mimport\u001b[39;00m \u001b[38;5;21;01mpandas\u001b[39;00m \u001b[38;5;28;01mas\u001b[39;00m \u001b[38;5;21;01mpd\u001b[39;00m\n\u001b[1;32m----> 2\u001b[0m \u001b[38;5;28;01mimport\u001b[39;00m \u001b[38;5;21;01mrequests\u001b[39;00m\n\u001b[0;32m      3\u001b[0m \u001b[38;5;28;01mimport\u001b[39;00m \u001b[38;5;21;01mmatplotlib\u001b[39;00m\u001b[38;5;21;01m.\u001b[39;00m\u001b[38;5;21;01mpyplot\u001b[39;00m \u001b[38;5;28;01mas\u001b[39;00m \u001b[38;5;21;01mplt\u001b[39;00m\n\u001b[0;32m      4\u001b[0m \u001b[38;5;28;01mimport\u001b[39;00m \u001b[38;5;21;01mseaborn\u001b[39;00m \u001b[38;5;28;01mas\u001b[39;00m \u001b[38;5;21;01msns\u001b[39;00m\n",
            "\u001b[1;31mModuleNotFoundError\u001b[0m: No module named 'requests'"
          ]
        }
      ],
      "source": [
        "\n",
        "import pandas as pd\n",
        "import requests\n",
        "import matplotlib.pyplot as plt\n",
        "import seaborn as sns"
      ]
    },
    {
      "cell_type": "code",
      "execution_count": null,
      "metadata": {
        "id": "fpM5VSSJqugI"
      },
      "outputs": [],
      "source": [
        "# Configurar estilo dos gráficos\n",
        "sns.set(style=\"whitegrid\")"
      ]
    },
    {
      "cell_type": "code",
      "execution_count": null,
      "metadata": {
        "id": "NSuiA9_Oqu3A"
      },
      "outputs": [],
      "source": [
        "# URL dos dados\n",
        "url = \"https://raw.githubusercontent.com/ingridcristh/challenge2-data-science/refs/heads/main/TelecomX_Data.json\""
      ]
    },
    {
      "cell_type": "code",
      "execution_count": null,
      "metadata": {
        "id": "ARjTpdecqvAH"
      },
      "outputs": [],
      "source": [
        "# Requisição e normalização dos dados\n",
        "response = requests.get(url)\n",
        "data = response.json()\n",
        "df = pd.json_normalize(data)"
      ]
    },
    {
      "cell_type": "code",
      "execution_count": null,
      "metadata": {
        "id": "5OwP7ZjWs7NY"
      },
      "outputs": [],
      "source": [
        "# Padronizar nomes de colunas\n",
        "df.columns = df.columns.str.lower().str.replace(\" \", \"_\")\n",
        "print(\"Colunas disponíveis:\", df.columns.tolist())"
      ]
    },
    {
      "cell_type": "markdown",
      "metadata": {
        "id": "zW-kye6itvjr"
      },
      "source": [
        "# ETAPA 2: Transformação dos dados (ETL)"
      ]
    },
    {
      "cell_type": "code",
      "execution_count": null,
      "metadata": {
        "id": "a9_jCzkVs7VW"
      },
      "outputs": [],
      "source": [
        " # Remove registros sem ID\n",
        "df = df.dropna(subset=['customerid'])\n"
      ]
    },
    {
      "cell_type": "code",
      "execution_count": null,
      "metadata": {
        "id": "TNJrWI7Ps7dt"
      },
      "outputs": [],
      "source": [
        "# Conversões de tipo para análise numérica\n",
        "df['account.charges.total'] = pd.to_numeric(df['account.charges.total'], errors='coerce')\n",
        "df['account.charges.monthly'] = pd.to_numeric(df['account.charges.monthly'], errors='coerce')\n"
      ]
    },
    {
      "cell_type": "code",
      "execution_count": null,
      "metadata": {
        "id": "kZNK71Yfs7lQ"
      },
      "outputs": [],
      "source": [
        "# Estatísticas iniciais\n",
        "print(df[['account.charges.monthly', 'account.charges.total']].describe())\n"
      ]
    },
    {
      "cell_type": "markdown",
      "metadata": {
        "id": "vngTg9khtQ_p"
      },
      "source": [
        "# ETAPA 3: Visualizações"
      ]
    },
    {
      "cell_type": "code",
      "execution_count": null,
      "metadata": {
        "id": "69bOQJIMs7xw"
      },
      "outputs": [],
      "source": [
        "# Churn por tipo de contrato\n",
        "plt.figure(figsize=(8, 5))\n",
        "sns.countplot(data=df, x='account.contract', hue='churn')\n",
        "plt.title(\"Churn por Tipo de Contrato\")\n",
        "plt.xlabel(\"Contrato\")\n",
        "plt.ylabel(\"Clientes\")\n",
        "plt.show()"
      ]
    },
    {
      "cell_type": "code",
      "execution_count": null,
      "metadata": {
        "id": "BbhwML29uUrA"
      },
      "outputs": [],
      "source": [
        "# Receita mensal média por tipo de internet\n",
        "plt.figure(figsize=(8, 5))\n",
        "sns.barplot(data=df, x='internet.internetservice', y='account.charges.monthly', ci=None)\n",
        "plt.title(\"Média da Cobrança Mensal por Tipo de Internet\")\n",
        "plt.xlabel(\"Tipo de Internet\")\n",
        "plt.ylabel(\"Cobrança Mensal (R$)\")\n",
        "plt.show()"
      ]
    },
    {
      "cell_type": "code",
      "execution_count": null,
      "metadata": {
        "id": "8B3IC34euaqi"
      },
      "outputs": [],
      "source": [
        "# Distribuição de clientes por tempo de contrato (tenure)\n",
        "plt.figure(figsize=(8, 5))\n",
        "sns.histplot(df['customer.tenure'], bins=30, kde=True)\n",
        "plt.title(\"Distribuição do Tempo de Contrato (Tenure)\")\n",
        "plt.xlabel(\"Meses\")\n",
        "plt.show()"
      ]
    },
    {
      "cell_type": "markdown",
      "metadata": {
        "id": "CBOWSmsOubi4"
      },
      "source": [
        "# ETAPA 4: Correlação e Análise Exploratória"
      ]
    },
    {
      "cell_type": "code",
      "execution_count": null,
      "metadata": {
        "id": "Ac0eq0s_uhVD"
      },
      "outputs": [],
      "source": [
        "corr = df[['customer.tenure', 'account.charges.monthly', 'account.charges.total']].corr()\n",
        "print(\"Matriz de Correlação:\\n\", corr)\n",
        "\n",
        "plt.figure(figsize=(6, 4))\n",
        "sns.heatmap(corr, annot=True, cmap=\"Blues\")\n",
        "plt.title(\"Correlação entre variáveis numéricas\")\n",
        "plt.show()"
      ]
    },
    {
      "cell_type": "markdown",
      "metadata": {
        "id": "CuGgv6WauvXC"
      },
      "source": [
        "# ETAPA 5: Análise adicional de gênero"
      ]
    },
    {
      "cell_type": "code",
      "execution_count": null,
      "metadata": {
        "id": "NNrkSHBPupyq"
      },
      "outputs": [],
      "source": [
        "plt.figure(figsize=(6, 4))\n",
        "sns.countplot(data=df, x='customer.gender')\n",
        "plt.title(\"Distribuição por Gênero\")\n",
        "plt.xlabel(\"Gênero\")\n",
        "plt.ylabel(\"Quantidade\")\n",
        "plt.show()"
      ]
    },
    {
      "cell_type": "markdown",
      "metadata": {
        "id": "jD-gjGGZu1gZ"
      },
      "source": [
        "# ETAPA 6: Quantidade de clientes por serviço prestado"
      ]
    },
    {
      "cell_type": "code",
      "execution_count": null,
      "metadata": {
        "id": "icNGNHW9u1rw"
      },
      "outputs": [],
      "source": [
        "servicos = [\n",
        "    'phone.phoneservice',\n",
        "    'phone.multiplelines',\n",
        "    'internet.internetservice',\n",
        "    'internet.onlinesecurity',\n",
        "    'internet.onlinebackup',\n",
        "    'internet.deviceprotection',\n",
        "    'internet.techsupport',\n",
        "    'internet.streamingtv',\n",
        "    'internet.streamingmovies'\n",
        "]\n",
        "\n",
        "for servico in servicos:\n",
        "    print(f\"{servico}:\")\n",
        "    print(df[servico].value_counts(dropna=False))\n",
        "    print(\"-\" * 40)\n",
        "\n",
        "for servico in servicos:\n",
        "    print(f\"{servico}:\")\n",
        "    print(df[servico].value_counts(dropna=False))\n",
        "    print(\"-\" * 40)\n"
      ]
    }
  ],
  "metadata": {
    "colab": {
      "private_outputs": true,
      "provenance": []
    },
    "kernelspec": {
      "display_name": "Python 3",
      "name": "python3"
    },
    "language_info": {
      "codemirror_mode": {
        "name": "ipython",
        "version": 3
      },
      "file_extension": ".py",
      "mimetype": "text/x-python",
      "name": "python",
      "nbconvert_exporter": "python",
      "pygments_lexer": "ipython3",
      "version": "3.12.2"
    }
  },
  "nbformat": 4,
  "nbformat_minor": 0
}
